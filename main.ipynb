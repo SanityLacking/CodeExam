{
 "cells": [
  {
   "cell_type": "markdown",
   "metadata": {},
   "source": [
    "## Athena ML Coding Exam <br>\n",
    "#### notebook edition"
   ]
  },
  {
   "cell_type": "markdown",
   "metadata": {},
   "source": []
  },
  {
   "cell_type": "code",
   "execution_count": null,
   "metadata": {},
   "outputs": [],
   "source": []
  },
  {
   "cell_type": "code",
   "execution_count": 1,
   "metadata": {},
   "outputs": [
    {
     "name": "stdout",
     "output_type": "stream",
     "text": [
      "Files already downloaded and verified\n",
      "Files already downloaded and verified\n",
      "Model's state_dict:\n",
      "conv1.weight \t torch.Size([6, 3, 5, 5])\n",
      "conv1.bias \t torch.Size([6])\n",
      "conv2.weight \t torch.Size([16, 6, 5, 5])\n",
      "conv2.bias \t torch.Size([16])\n",
      "fc1.weight \t torch.Size([120, 400])\n",
      "fc1.bias \t torch.Size([120])\n",
      "fc2.weight \t torch.Size([84, 120])\n",
      "fc2.bias \t torch.Size([84])\n",
      "fc3.weight \t torch.Size([10, 84])\n",
      "fc3.bias \t torch.Size([10])\n",
      "Optimizer's state_dict:\n",
      "state \t {}\n",
      "param_groups \t [{'lr': 0.001, 'betas': (0.9, 0.999), 'eps': 1e-08, 'weight_decay': 0, 'amsgrad': False, 'maximize': False, 'params': [0, 1, 2, 3, 4, 5, 6, 7, 8, 9]}]\n"
     ]
    }
   ],
   "source": [
    "import torch\n",
    "import torch.nn.functional as F\n",
    "from sklearn.metrics import brier_score_loss\n",
    "from torch.utils.data import DataLoader\n",
    "import numpy as np\n",
    "import sys\n",
    "import traceback\n",
    "from datasets_cifar10 import train_dataset, test_dataset\n",
    "# from datasets_subcifar10 import train_dataset, test_dataset\n",
    "\n",
    "from model import Net\n"
   ]
  },
  {
   "cell_type": "code",
   "execution_count": 3,
   "metadata": {},
   "outputs": [],
   "source": [
    "def compute_calibration_metrics(model, dataloader):\n",
    "    ''' computes the calibration metrics for the loaded model against the chosen dataset.\n",
    "        model's input shape and output shape needs to match provided dataset input shape and target set respectively.\n",
    "\n",
    "    \n",
    "    '''\n",
    "    # Set model to evaluation mode\n",
    "    model.eval()\n",
    "\n",
    "    # Initialize variables to store calibration metrics\n",
    "    num_samples = 0\n",
    "    confidences = []\n",
    "    accuracies = []\n",
    "\n",
    "    # Iterate over the data loader and collect predictions and ground truth\n",
    "    for inputs, targets in dataloader:\n",
    "        inputs = inputs.cuda()\n",
    "        targets = targets.cuda()\n",
    "\n",
    "        # Make predictions\n",
    "        outputs = model(inputs)\n",
    "        predictions = F.softmax(outputs, dim=1).detach().cpu().numpy()\n",
    "\n",
    "        # Update calibration metrics\n",
    "        num_samples += len(targets)\n",
    "        confidences.extend(predictions[:, 1])\n",
    "        accuracies.extend(targets.cpu().numpy() == np.argmax(predictions, axis=1))\n",
    "\n",
    "    # Calculate expected calibration error\n",
    "    ece = 0\n",
    "    confidences = np.array(confidences)\n",
    "    accuracies = np.array(accuracies)\n",
    "    bin_boundaries = np.linspace(0, 1, 11)\n",
    "    for bin_idx in range(10):\n",
    "        in_bin = np.logical_and(confidences >= bin_boundaries[bin_idx], confidences < bin_boundaries[bin_idx+1])\n",
    "        if np.sum(in_bin) > 0:\n",
    "            ece += np.abs(np.mean(accuracies[in_bin]) - np.mean(confidences[in_bin]))\n",
    "    ece *= 100\n",
    "\n",
    "    # Calculate max calibration error\n",
    "    mce = 0\n",
    "    for bin_idx in range(10):\n",
    "        in_bin = np.logical_and(confidences >= bin_boundaries[bin_idx], confidences < bin_boundaries[bin_idx+1])\n",
    "        if np.sum(in_bin) > 0:\n",
    "            mce = max(mce, np.abs(np.mean(accuracies[in_bin]) - np.mean(confidences[in_bin])) * 100)\n",
    "\n",
    "    # Return calibration metrics\n",
    "    return ece / 10, mce"
   ]
  },
  {
   "cell_type": "code",
   "execution_count": 4,
   "metadata": {},
   "outputs": [],
   "source": [
    "def evalModel(model):\n",
    "    try:\n",
    "        #load the dataset and set the batchsize\n",
    "        batch_size = 32        \n",
    "        # train_loader = DataLoader(train_dataset, batch_size=batch_size, shuffle=False)\n",
    "        test_loader = DataLoader(test_dataset, batch_size=batch_size, shuffle=False)\n",
    "        \n",
    "    except Exception as e:\n",
    "        traceback.print_exc()\n",
    "        print(\"the dataset was not able to load, please check the exception message\")\n",
    "    try:\n",
    "        # brier_multi(model, test_loader)\n",
    "        expected_calibration_error, max_calibration_error = compute_calibration_metrics(model, test_loader)\n",
    "        print(\"Expected Calibration Error: {:.2f}%\".format(expected_calibration_error))\n",
    "        print(\"Max Calibration Error: {:.2f}%\".format(max_calibration_error))\n",
    "\n",
    "\n",
    "    except Exception as e:        \n",
    "        traceback.print_exc()\n",
    "        print(\"model was not able to run, please check the exception message:\")\n",
    "    return True"
   ]
  },
  {
   "cell_type": "code",
   "execution_count": 68,
   "metadata": {},
   "outputs": [
    {
     "name": "stdout",
     "output_type": "stream",
     "text": [
      "loading model stored at: ' ./models/model.pt'\n"
     ]
    }
   ],
   "source": [
    "modelName=\"./models/model.pt\"\n",
    "print(\"loading model stored at: '\", modelName +\"'\")\n",
    "\n",
    "#load the model and run evaluation code\n",
    "try:\n",
    "    checkpoint = torch.load(modelName)   \n",
    "    if isinstance(checkpoint, torch.jit.ScriptModule):\n",
    "        print(\"warning, the supplied model has been loaded as a torchscript model, take caution\")\n",
    "    device = torch.device('cuda:0')\n",
    "    checkpoint = checkpoint.to(device)\n",
    "    \n",
    "\n",
    "except Exception  as e:\n",
    "    traceback.print_exc()\n",
    "    print(\"could not load torch model file, please check error msg above\")"
   ]
  },
  {
   "cell_type": "code",
   "execution_count": 6,
   "metadata": {},
   "outputs": [
    {
     "name": "stdout",
     "output_type": "stream",
     "text": [
      "Expected Calibration Error: 0.11%\n",
      "Max Calibration Error: 1.01%\n"
     ]
    },
    {
     "data": {
      "text/plain": [
       "True"
      ]
     },
     "execution_count": 6,
     "metadata": {},
     "output_type": "execute_result"
    }
   ],
   "source": [
    "evalModel(checkpoint)"
   ]
  },
  {
   "cell_type": "code",
   "execution_count": 84,
   "metadata": {},
   "outputs": [
    {
     "name": "stdout",
     "output_type": "stream",
     "text": [
      "test evaluation: 312 of 312\n",
      "   prediction  label  confidence  accuracy\n",
      "0           0      3    0.003035     False\n",
      "1           1      8    0.824600     False\n",
      "2           1      8    0.301958     False\n",
      "3           0      0    0.007758      True\n",
      "4           4      6    0.000043     False\n",
      "10000\n",
      "10000\n",
      "Predicted Class     0     1     2     3     4     5     6     7     8     9  \\\n",
      "Actual Class                                                                  \n",
      "0                 679    28    65    24    18    14    16    11   103    35   \n",
      "1                  31   770     9    18    10     4    14     8    71   111   \n",
      "2                  67     5   575   110   109   124    63    59    17     9   \n",
      "3                  11     3    47   365    39   154    49    36    13     8   \n",
      "4                  36     6   109    96   595    78    63    88    18    20   \n",
      "5                   4     5    42   171    38   477    27    60    10    15   \n",
      "6                  10     8    68   102    72    40   719    10     1    10   \n",
      "7                  13     6    38    41    90    65    12   679     4    16   \n",
      "8                  97    25    27    41    16    19    15     9   725    34   \n",
      "9                  52   144    20    32    13    25    22    40    38   742   \n",
      "All              1000  1000  1000  1000  1000  1000  1000  1000  1000  1000   \n",
      "\n",
      "Predicted Class    All  \n",
      "Actual Class            \n",
      "0                  993  \n",
      "1                 1046  \n",
      "2                 1138  \n",
      "3                  725  \n",
      "4                 1109  \n",
      "5                  849  \n",
      "6                 1040  \n",
      "7                  964  \n",
      "8                 1008  \n",
      "9                 1128  \n",
      "All              10000  \n",
      "Net\n",
      "\n",
      "Classification Report\n",
      "\n",
      "['Class 0', 'Class 1', 'Class 2', 'Class 3', 'Class 4', 'Class 5', 'Class 6', 'Class 7', 'Class 8', 'Class 9']\n",
      "              precision    recall  f1-score   support\n",
      "\n",
      "     Class 0       0.68      0.68      0.68      1000\n",
      "     Class 1       0.74      0.77      0.75      1000\n",
      "     Class 2       0.51      0.57      0.54      1000\n",
      "     Class 3       0.50      0.36      0.42      1000\n",
      "     Class 4       0.54      0.59      0.56      1000\n",
      "     Class 5       0.56      0.48      0.52      1000\n",
      "     Class 6       0.69      0.72      0.70      1000\n",
      "     Class 7       0.70      0.68      0.69      1000\n",
      "     Class 8       0.72      0.72      0.72      1000\n",
      "     Class 9       0.66      0.74      0.70      1000\n",
      "\n",
      "    accuracy                           0.63     10000\n",
      "   macro avg       0.63      0.63      0.63     10000\n",
      "weighted avg       0.63      0.63      0.63     10000\n",
      "\n"
     ]
    },
    {
     "data": {
      "text/plain": [
       "True"
      ]
     },
     "execution_count": 84,
     "metadata": {},
     "output_type": "execute_result"
    },
    {
     "data": {
      "image/png": "[encoded data removed]",
      "text/plain": [
       "<Figure size 720x504 with 1 Axes>"
      ]
     },
     "metadata": {
      "needs_background": "light"
     },
     "output_type": "display_data"
    }
   ],
   "source": [
    "import pandas as pd\n",
    "import seaborn as sn\n",
    "import matplotlib.pyplot as plt\n",
    "from sklearn.metrics import classification_report\n",
    "from datetime import datetime\n",
    "\n",
    "def build_confusion_matrix(model, dataloader, labelClasses=[0,1,2,3,4,5,6,7,8,9]):\n",
    "    ''' builds a confusion matrix showing the interaction of the different classes, and distribution of TP and FP between each class.\n",
    "        model's input shape and output shape needs to match provided dataset input shape and target set respectively.\n",
    "        produces a matplotlib graph output and saves it to the results folder.\n",
    "    '''\n",
    "    from sklearn.metrics import confusion_matrix\n",
    "\n",
    "    resultsDict = {}\n",
    "    predictions = []\n",
    "    results = []\n",
    "    num_samples = 0\n",
    "    confidences = []\n",
    "    accuracies = []\n",
    "    outputs = []\n",
    "    results = []\n",
    "    labels = []\n",
    "    \n",
    "     # Iterate over the data loader and collect predictions and ground truth\n",
    "    for i, (inputs, targets) in enumerate(dataloader):\n",
    "        print(\"\\rtest evaluation: \"+str(i)+\" of \"+str(len(dataloader)-1),end='')\n",
    "        inputs = inputs.cuda()\n",
    "        targets = targets.cuda()\n",
    "\n",
    "        # Make predictions\n",
    "        outputs = model(inputs)\n",
    "        predictions = F.softmax(outputs, dim=1).detach().cpu().numpy()\n",
    "\n",
    "        # Update calibration metrics\n",
    "        num_samples += len(targets)\n",
    "        confidences.extend(predictions[:, 1])\n",
    "        results.extend(np.argmax(predictions, axis=1))\n",
    "        labels.extend(targets.cpu().numpy())\n",
    "        accuracies.extend(targets.cpu().numpy() == np.argmax(predictions, axis=1))\n",
    "    print(\"\") ## newline for output formatting\n",
    "    \n",
    "    for i, labelClass in enumerate(labelClasses):        \n",
    "        resultsDict[labelClass]={}\n",
    "                \n",
    "    # print(confidences)\n",
    "    # print(accuracies)\n",
    "    df_pred = pd.DataFrame(predictions)\n",
    "    # print(df_pred)\n",
    "    df = pd.DataFrame(list(zip(results, labels,confidences, accuracies)), columns=[\"prediction\",\"label\",\"confidence\",\"accuracy\"])\n",
    "    print(df.head())\n",
    "    # print(df.shape)\n",
    "    \n",
    "    \n",
    "    print(len(results))\n",
    "    print(len(labels))\n",
    "    df_confusion = pd.crosstab([results], [labels], rownames=['Actual Class'], colnames=['Predicted Class'], margins=True)\n",
    "    print(df_confusion)\n",
    "    \n",
    "    plt.figure(figsize = (10,7))\n",
    "    sn.heatmap(df_confusion, annot=True,cbar=False,cmap=\"plasma_r\",fmt='d',linewidth=.5)\n",
    "    print(model.__class__.__name__)\n",
    "    \n",
    "    plt.savefig(\"./results/{}_{}_confusionMatrix.jpg\".format(checkpoint.__class__.__name__,datetime.now().strftime(\"%Y_%m_%d-%I_%M_%S_%p\")))\n",
    "    print('\\nClassification Report\\n')\n",
    "    target_names = []\n",
    "    for c in labelClasses:\n",
    "        target_names.append(\"Class {}\".format(c))\n",
    "    print(target_names)\n",
    "    print(classification_report(labels, results, target_names=target_names))\n",
    "\n",
    "#     pred = np.array(pred)\n",
    "#     labels = np.array(labels)\n",
    "#     entropy = np.array(entropy)\n",
    "#     classCount = {}\n",
    "#     results = pred\n",
    "#     labelClasses=classes\n",
    "#     num_outputs=10\n",
    "\n",
    "#     for labelClass in labelClasses:\n",
    "#         resultsDict[labelClass] = {j: [] for j in range(num_outputs)}\n",
    "# #         resultsDict[labelClass] = [0]*num_outputs\n",
    "#         classCount[labelClass] = 0\n",
    "    return True\n",
    "\n",
    "batch_size = 32        \n",
    "test_loader = DataLoader(test_dataset, batch_size=batch_size, shuffle=False)\n",
    "\n",
    "build_confusion_matrix(checkpoint, test_loader)"
   ]
  },
  {
   "cell_type": "code",
   "execution_count": 55,
   "metadata": {},
   "outputs": [],
   "source": [
    "import numpy as np\n",
    "import pandas as pd\n",
    "\n",
    "def entropyConfusionMatrix(pred, labels, entropy, num_outputs, classes, output_names=[]):\n",
    "    \"\"\" generate a matrix of entropy values for all classes and outputs\n",
    "        pred: list of all predicted labels\n",
    "        labels: list of all actual labels. must match pred in size and shape\n",
    "        classes: list of all classes, for example [0,1,2,3]\n",
    "        output_names: list of names for each of the outputs. applies names to outputs in the same order as pred and labels.\n",
    "\n",
    "    \"\"\"    \n",
    "#  \n",
    "    df_confusion = pd.crosstab(pred, labels, rownames=['Actual'], colnames=['Predicted'], margins=True)\n",
    "    print(df_confusion)\n",
    "#         print(confusion_matrix(item,transpose_labels[i]))\n",
    "        \n",
    "    \n",
    "    \n",
    "#         for j, branch in enumerate(item):\n",
    "#             print(\"{},{}\".format(i, j))\n",
    "#             if branch == True: \n",
    "#             resultsDict[labels[i][j]][j].append(branch)\n",
    "#         classCount[labels[i][0]] += 1\n",
    "    # print(classCount)\n",
    "#     print(resultsDict)\n",
    "    \n",
    "#     resultsDict = pd.DataFrame.from_dict(resultsDict,orient=\"index\")\n",
    "# #     print(resultsDict)\n",
    "#     for column in resultsDict:\n",
    "# #         print(df[column])\n",
    "#         resultsDict[column] = [np.array(x).mean() for x in resultsDict[column].values]\n",
    "# #     resultsDict = resultsDict.mean(axis=0)\n",
    "#     renameDict={}\n",
    "#     for i, name in enumerate(output_names):\n",
    "#         renameDict[i] = name\n",
    "#     print(\"rename:{}\".format(renameDict))\n",
    "#     if len(renameDict) > 0:\n",
    "#         print(\"rename!\")\n",
    "#         resultsDict = resultsDict.rename(renameDict,axis =\"columns\")\n",
    "#     resultsDict[\"itemCount\"] = pd.Series(classCount)\n",
    "#     return resultsDict\n",
    "    return"
   ]
  },
  {
   "cell_type": "code",
   "execution_count": 54,
   "metadata": {},
   "outputs": [
    {
     "name": "stdout",
     "output_type": "stream",
     "text": [
      "Predicted  3  All\n",
      "Actual           \n",
      "3          2    2\n",
      "4          1    1\n",
      "5          1    1\n",
      "All        4    4\n",
      "None\n"
     ]
    }
   ],
   "source": [
    "pred = [[3, 3, 5, 4], ]\n",
    "entropy = [[0.02117890713197057, 1.7145111565508644, 1.123504928401738, 0.02854453329516289], ]\n",
    "labels = [[3, 3, 3, 3],]\n",
    "y = entropyConfusionMatrix(pred, labels, entropy, 1,[0,1,2,3,4,5,6,7,8,9])\n",
    "print(y)"
   ]
  },
  {
   "cell_type": "code",
   "execution_count": 36,
   "metadata": {},
   "outputs": [
    {
     "name": "stdout",
     "output_type": "stream",
     "text": [
      "   x  y\n",
      "0  1  4\n",
      "1  2  5\n",
      "2  3  6\n"
     ]
    }
   ],
   "source": [
    "x= [1,2,3]\n",
    "y = [4,5,6]\n",
    "\n",
    "df = pd.DataFrame(list(zip(x,y)),columns=[\"x\",\"y\"])\n",
    "print(df.head())"
   ]
  },
  {
   "cell_type": "code",
   "execution_count": 45,
   "metadata": {},
   "outputs": [
    {
     "ename": "TypeError",
     "evalue": "list indices must be integers or slices, not tuple",
     "output_type": "error",
     "traceback": [
      "\u001b[1;31m---------------------------------------------------------------------------\u001b[0m",
      "\u001b[1;31mTypeError\u001b[0m                                 Traceback (most recent call last)",
      "\u001b[1;32m~\\AppData\\Local\\Temp/ipykernel_18640/1841853044.py\u001b[0m in \u001b[0;36m<module>\u001b[1;34m\u001b[0m\n\u001b[0;32m      1\u001b[0m \u001b[0mx\u001b[0m \u001b[1;33m=\u001b[0m \u001b[1;33m[\u001b[0m\u001b[1;33m[\u001b[0m\u001b[1;36m0.103248\u001b[0m\u001b[1;33m,\u001b[0m  \u001b[1;36m0.099111\u001b[0m\u001b[1;33m,\u001b[0m  \u001b[1;36m0.102926\u001b[0m \u001b[1;33m,\u001b[0m \u001b[1;36m0.091769\u001b[0m \u001b[1;33m,\u001b[0m \u001b[1;36m0.092161\u001b[0m  \u001b[1;33m,\u001b[0m\u001b[1;36m0.099890\u001b[0m\u001b[1;33m,\u001b[0m  \u001b[1;36m0.104131\u001b[0m\u001b[1;33m,\u001b[0m \u001b[1;36m0.091169\u001b[0m\u001b[1;33m,\u001b[0m  \u001b[1;36m0.105975\u001b[0m \u001b[1;33m,\u001b[0m \u001b[1;36m0.109620\u001b[0m\u001b[1;33m]\u001b[0m\u001b[1;33m,\u001b[0m\u001b[1;33m]\u001b[0m\u001b[1;33m\u001b[0m\u001b[1;33m\u001b[0m\u001b[0m\n\u001b[1;32m----> 2\u001b[1;33m \u001b[0my\u001b[0m \u001b[1;33m=\u001b[0m\u001b[0mx\u001b[0m\u001b[1;33m[\u001b[0m\u001b[1;33m:\u001b[0m\u001b[1;33m,\u001b[0m \u001b[1;36m1\u001b[0m\u001b[1;33m]\u001b[0m\u001b[1;33m\u001b[0m\u001b[1;33m\u001b[0m\u001b[0m\n\u001b[0m\u001b[0;32m      3\u001b[0m \u001b[0mprint\u001b[0m\u001b[1;33m(\u001b[0m\u001b[0my\u001b[0m\u001b[1;33m)\u001b[0m\u001b[1;33m\u001b[0m\u001b[1;33m\u001b[0m\u001b[0m\n",
      "\u001b[1;31mTypeError\u001b[0m: list indices must be integers or slices, not tuple"
     ]
    }
   ],
   "source": [
    "x = [[0.103248,  0.099111,  0.102926 , 0.091769 , 0.092161  ,0.099890,  0.104131, 0.091169,  0.105975 , 0.109620],]\n",
    "y = x[:, 1]\n",
    "print(y)"
   ]
  },
  {
   "cell_type": "code",
   "execution_count": null,
   "metadata": {},
   "outputs": [],
   "source": []
  }
 ],
 "metadata": {
  "kernelspec": {
   "display_name": "Python 3 (ipykernel)",
   "language": "python",
   "name": "python3"
  },
  "language_info": {
   "codemirror_mode": {
    "name": "ipython",
    "version": 3
   },
   "file_extension": ".py",
   "mimetype": "text/x-python",
   "name": "python",
   "nbconvert_exporter": "python",
   "pygments_lexer": "ipython3",
   "version": "3.7.11"
  },
  "vscode": {
   "interpreter": {
    "hash": "632aef774cc0760417fa29704a5cf9562c90ea600d77237eb2969e3f571ea566"
   }
  }
 },
 "nbformat": 4,
 "nbformat_minor": 4
}
